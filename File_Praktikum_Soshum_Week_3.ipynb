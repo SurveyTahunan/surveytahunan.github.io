{
  "nbformat": 4,
  "nbformat_minor": 0,
  "metadata": {
    "kernelspec": {
      "display_name": "Python 3",
      "language": "python",
      "name": "python3"
    },
    "language_info": {
      "codemirror_mode": {
        "name": "ipython",
        "version": 3
      },
      "file_extension": ".py",
      "mimetype": "text/x-python",
      "name": "python",
      "nbconvert_exporter": "python",
      "pygments_lexer": "ipython3",
      "version": "3.6.9"
    },
    "colab": {
      "name": "File-Praktikum Soshum-Week-3.ipynb",
      "provenance": [],
      "include_colab_link": true
    }
  },
  "cells": [
    {
      "cell_type": "markdown",
      "metadata": {
        "id": "view-in-github",
        "colab_type": "text"
      },
      "source": [
        "<a href=\"https://colab.research.google.com/github/SurveyTahunan/surveytahunan.github.io/blob/main/File_Praktikum_Soshum_Week_3.ipynb\" target=\"_parent\"><img src=\"https://colab.research.google.com/assets/colab-badge.svg\" alt=\"Open In Colab\"/></a>"
      ]
    },
    {
      "cell_type": "markdown",
      "metadata": {
        "_cell_guid": "e9661373-4482-4fd6-87db-9debcf5835cc",
        "_uuid": "58814c6412866fd76edd976c63878aa7d7318c55",
        "id": "wT4wTmpgjQUm"
      },
      "source": [
        "# Pertemuan III\n",
        "\n",
        "### Deskripsi Dataset\n",
        "Dataset ini berisi data hasil  survei terhadap lebih dari 100 responden untuk perilaku pembelian mereka di Starbucks.\n",
        "Pendapatan ditampilkan dalam Ringgit Malaysia (RM).\n",
        "\n",
        "### Konteks\n",
        "Data ini dapat digunakan untuk memperoleh informasi yang dapat digunakan oleh pemangku kepentingan guna menganalisis dan mengetahui perilaku data pelanggan, mempertahankan pelanggan yang ada serta mengembangkan program marketing untuk menarik pelanggan tepat sasaran\n",
        "\n",
        "### Isi\n",
        "* Info demografis tentang pelanggan – jenis kelamin, rentang usia, status pekerjaan, rentang pendapatan\n",
        "* Perilaku mereka saat ini dalam membeli Starbucks\n",
        "* Fasilitas dan fitur Starbucks yang berkontribusi pada perilaku\n",
        "\n",
        "### Apa yang bisa kita temukan ?\n",
        "Apa karakteristik pelanggan yang akan terus membeli Starbucks?\n",
        "\n",
        "Pada praktikum ini, Anda akan melakukan beberapa operasi dasar yaitu : \n",
        "\n",
        "* [Histogram](#1)\n",
        "* [Outliers](#2)\n",
        "* [Box Plot ](#3)\n",
        "* [Summary Statistics](#4)\n",
        "* [Effect size](#5)\n",
        "* [Relationship Between Variables](#6)\n",
        "* [Correlation](#7)\n",
        "* [Covariance](#8)\n",
        "* [Pearson Correlation](#9)\n",
        "* [Spearman's Rank Correlation](#10)\n",
        "* [Mean VS Median](#11)\n",
        "* [Hypothesis Testing](#12)\n",
        "* [Normal(Gaussian) Distribution and z-score](#13) \n"
      ]
    },
    {
      "cell_type": "markdown",
      "metadata": {
        "id": "TDGWkb49jQVe"
      },
      "source": [
        "# Panduan Praktikum\n",
        "\n",
        "* Bacalah instruksi praktikum dengan seksama. \n",
        "* Lakukan instruksi pengerjaan ada pada setiap checkpoint (tips : cari tanda <<??>> atau '...' dan isilah dengan perintah yang tepat)\n",
        "* notes : kode program akan memberikan informasi error jika Anda belum mengisi tanda <<??>> atau '..' dengan perintah yang tepat\n",
        "\n",
        "3. Lakukan perhitungan summary nilai statistik (mean, standar deviasi, dan variance) dari fitur ...\n",
        "4. Berdasarkan hasil ploting diagram heatmap, jelaskan korelasi yang ada antara fitur ... dan ...\n",
        "5. Hitung nilai pearson correlation dari fitur ... dan ... Jelaskan arti dari nilai tersebut.\n",
        "6. Lakukan uji hipotesis untuk kolom fitur ... dan ...  serta berikan penjelasan terhadap hasil dari uji hipotesis yang dilakukan. \n",
        "7. Tulis laporan hasil praktikum kalian dalam bentuk file .pdf dan silahkan Anda submit melalui akun v-class praktikum."
      ]
    },
    {
      "cell_type": "code",
      "metadata": {
        "_cell_guid": "b1076dfc-b9ad-4769-8c92-a6c4dae69d19",
        "_uuid": "8f2839f25d086af736a60e9eeb907d3b93b6e0e5",
        "id": "z3Z9jEnJjQVn"
      },
      "source": [
        "# import libraries\n",
        "import pandas as pd\n",
        "import numpy as np\n",
        "import seaborn as sns\n",
        "import matplotlib.pyplot as plt\n",
        "from pandas.plotting import autocorrelation_plot\n",
        "from scipy import stats\n",
        "plt.style.use(\"ggplot\")\n",
        "import warnings\n",
        "warnings.filterwarnings(\"ignore\")\n",
        "from scipy import stats"
      ],
      "execution_count": null,
      "outputs": []
    },
    {
      "cell_type": "markdown",
      "metadata": {
        "id": "Ab_IQcVvjQVz"
      },
      "source": [
        "### Instuksi 1\n",
        "Masukkan (bacalah) file dataset .csv  yang tersedia pada link https://raw.githubusercontent.com/supasonicx/ATA-praktikum-01/main/Starbucks%20satisfactory%20survey%20encode%20cleaned.csv dengan perintah pandas read."
      ]
    },
    {
      "cell_type": "code",
      "metadata": {
        "_cell_guid": "79c7e3d0-c299-4dcb-8224-4455121ee9b0",
        "_uuid": "d629ff2d2480ee46fbb7e2d37f6b5fab8052498a",
        "id": "jNMxMwpdjQV3"
      },
      "source": [
        "# read data as pandas data frame\n",
        "url_data = \"https://raw.githubusercontent.com/supasonicx/ATA-praktikum-01/main/Starbucks%20satisfactory%20survey%20encode%20cleaned.csv\"\n",
        "data = pd.read_csv(url_data)\n"
      ],
      "execution_count": null,
      "outputs": []
    },
    {
      "cell_type": "markdown",
      "metadata": {
        "id": "2LXLeSgAjQV6"
      },
      "source": [
        "### Instruksi 2\n",
        "Tampilkan 5 baris awal dari dataset yang digunakan dengan perintah head()"
      ]
    },
    {
      "cell_type": "code",
      "metadata": {
        "scrolled": true,
        "id": "h2QgMxV2jQWK",
        "outputId": "29a7ed0f-95f1-4232-cf05-47e04ffbe089"
      },
      "source": [
        "## Melihat 5 baris awal dari dataset yang digunakan\n",
        "data.<<??>>"
      ],
      "execution_count": null,
      "outputs": [
        {
          "data": {
            "text/html": [
              "<div>\n",
              "<style scoped>\n",
              "    .dataframe tbody tr th:only-of-type {\n",
              "        vertical-align: middle;\n",
              "    }\n",
              "\n",
              "    .dataframe tbody tr th {\n",
              "        vertical-align: top;\n",
              "    }\n",
              "\n",
              "    .dataframe thead th {\n",
              "        text-align: right;\n",
              "    }\n",
              "</style>\n",
              "<table border=\"1\" class=\"dataframe\">\n",
              "  <thead>\n",
              "    <tr style=\"text-align: right;\">\n",
              "      <th></th>\n",
              "      <th>Id</th>\n",
              "      <th>gender</th>\n",
              "      <th>age</th>\n",
              "      <th>status</th>\n",
              "      <th>income</th>\n",
              "      <th>visitNo</th>\n",
              "      <th>method</th>\n",
              "      <th>timeSpend</th>\n",
              "      <th>location</th>\n",
              "      <th>membershipCard</th>\n",
              "      <th>...</th>\n",
              "      <th>chooseRate</th>\n",
              "      <th>promoMethodApp</th>\n",
              "      <th>promoMethodSoc</th>\n",
              "      <th>promoMethodEmail</th>\n",
              "      <th>promoMethodDeal</th>\n",
              "      <th>promoMethodFriend</th>\n",
              "      <th>promoMethodDisplay</th>\n",
              "      <th>promoMethodBillboard</th>\n",
              "      <th>promoMethodOthers</th>\n",
              "      <th>loyal</th>\n",
              "    </tr>\n",
              "  </thead>\n",
              "  <tbody>\n",
              "    <tr>\n",
              "      <th>0</th>\n",
              "      <td>1</td>\n",
              "      <td>1</td>\n",
              "      <td>1</td>\n",
              "      <td>0</td>\n",
              "      <td>0</td>\n",
              "      <td>3</td>\n",
              "      <td>0</td>\n",
              "      <td>1</td>\n",
              "      <td>0</td>\n",
              "      <td>0</td>\n",
              "      <td>...</td>\n",
              "      <td>3</td>\n",
              "      <td>1</td>\n",
              "      <td>1</td>\n",
              "      <td>1</td>\n",
              "      <td>1</td>\n",
              "      <td>1</td>\n",
              "      <td>1</td>\n",
              "      <td>1</td>\n",
              "      <td>1</td>\n",
              "      <td>0</td>\n",
              "    </tr>\n",
              "    <tr>\n",
              "      <th>1</th>\n",
              "      <td>2</td>\n",
              "      <td>1</td>\n",
              "      <td>1</td>\n",
              "      <td>0</td>\n",
              "      <td>0</td>\n",
              "      <td>3</td>\n",
              "      <td>2</td>\n",
              "      <td>0</td>\n",
              "      <td>1</td>\n",
              "      <td>0</td>\n",
              "      <td>...</td>\n",
              "      <td>2</td>\n",
              "      <td>1</td>\n",
              "      <td>1</td>\n",
              "      <td>1</td>\n",
              "      <td>1</td>\n",
              "      <td>1</td>\n",
              "      <td>1</td>\n",
              "      <td>1</td>\n",
              "      <td>1</td>\n",
              "      <td>0</td>\n",
              "    </tr>\n",
              "    <tr>\n",
              "      <th>2</th>\n",
              "      <td>3</td>\n",
              "      <td>0</td>\n",
              "      <td>1</td>\n",
              "      <td>2</td>\n",
              "      <td>0</td>\n",
              "      <td>2</td>\n",
              "      <td>0</td>\n",
              "      <td>1</td>\n",
              "      <td>2</td>\n",
              "      <td>0</td>\n",
              "      <td>...</td>\n",
              "      <td>3</td>\n",
              "      <td>1</td>\n",
              "      <td>1</td>\n",
              "      <td>1</td>\n",
              "      <td>1</td>\n",
              "      <td>1</td>\n",
              "      <td>1</td>\n",
              "      <td>1</td>\n",
              "      <td>1</td>\n",
              "      <td>0</td>\n",
              "    </tr>\n",
              "    <tr>\n",
              "      <th>3</th>\n",
              "      <td>4</td>\n",
              "      <td>1</td>\n",
              "      <td>1</td>\n",
              "      <td>0</td>\n",
              "      <td>0</td>\n",
              "      <td>3</td>\n",
              "      <td>2</td>\n",
              "      <td>0</td>\n",
              "      <td>2</td>\n",
              "      <td>1</td>\n",
              "      <td>...</td>\n",
              "      <td>3</td>\n",
              "      <td>1</td>\n",
              "      <td>1</td>\n",
              "      <td>1</td>\n",
              "      <td>1</td>\n",
              "      <td>1</td>\n",
              "      <td>1</td>\n",
              "      <td>1</td>\n",
              "      <td>1</td>\n",
              "      <td>1</td>\n",
              "    </tr>\n",
              "    <tr>\n",
              "      <th>4</th>\n",
              "      <td>5</td>\n",
              "      <td>0</td>\n",
              "      <td>1</td>\n",
              "      <td>0</td>\n",
              "      <td>0</td>\n",
              "      <td>2</td>\n",
              "      <td>2</td>\n",
              "      <td>1</td>\n",
              "      <td>1</td>\n",
              "      <td>1</td>\n",
              "      <td>...</td>\n",
              "      <td>3</td>\n",
              "      <td>1</td>\n",
              "      <td>1</td>\n",
              "      <td>1</td>\n",
              "      <td>1</td>\n",
              "      <td>1</td>\n",
              "      <td>1</td>\n",
              "      <td>1</td>\n",
              "      <td>1</td>\n",
              "      <td>0</td>\n",
              "    </tr>\n",
              "  </tbody>\n",
              "</table>\n",
              "<p>5 rows × 33 columns</p>\n",
              "</div>"
            ],
            "text/plain": [
              "   Id  gender  age  status  income  visitNo  method  timeSpend  location  \\\n",
              "0   1       1    1       0       0        3       0          1         0   \n",
              "1   2       1    1       0       0        3       2          0         1   \n",
              "2   3       0    1       2       0        2       0          1         2   \n",
              "3   4       1    1       0       0        3       2          0         2   \n",
              "4   5       0    1       0       0        2       2          1         1   \n",
              "\n",
              "   membershipCard  ...  chooseRate  promoMethodApp  promoMethodSoc  \\\n",
              "0               0  ...           3               1               1   \n",
              "1               0  ...           2               1               1   \n",
              "2               0  ...           3               1               1   \n",
              "3               1  ...           3               1               1   \n",
              "4               1  ...           3               1               1   \n",
              "\n",
              "   promoMethodEmail  promoMethodDeal  promoMethodFriend  promoMethodDisplay  \\\n",
              "0                 1                1                  1                   1   \n",
              "1                 1                1                  1                   1   \n",
              "2                 1                1                  1                   1   \n",
              "3                 1                1                  1                   1   \n",
              "4                 1                1                  1                   1   \n",
              "\n",
              "   promoMethodBillboard  promoMethodOthers  loyal  \n",
              "0                     1                  1      0  \n",
              "1                     1                  1      0  \n",
              "2                     1                  1      0  \n",
              "3                     1                  1      1  \n",
              "4                     1                  1      0  \n",
              "\n",
              "[5 rows x 33 columns]"
            ]
          },
          "execution_count": 3,
          "metadata": {},
          "output_type": "execute_result"
        }
      ]
    },
    {
      "cell_type": "markdown",
      "metadata": {
        "id": "ke9cBuf2jQWm"
      },
      "source": [
        "### Instruksi 2\n",
        "Tampilkan dimensi dari dataset yang digunakan dengan perintah shape()"
      ]
    },
    {
      "cell_type": "code",
      "metadata": {
        "id": "goDKO58EjQWq",
        "outputId": "7913b598-c6db-4d94-d5c6-499734a15251"
      },
      "source": [
        "data.<<??>>"
      ],
      "execution_count": null,
      "outputs": [
        {
          "data": {
            "text/plain": [
              "(569, 31)"
            ]
          },
          "execution_count": 4,
          "metadata": {},
          "output_type": "execute_result"
        }
      ]
    },
    {
      "cell_type": "markdown",
      "metadata": {
        "id": "JySpnHI5jQW7"
      },
      "source": [
        "### Instruksi 3\n",
        "Tampilkan kolom apa saja yang dimiliki oleh dataset yang digunakan dengan perintah columns()"
      ]
    },
    {
      "cell_type": "code",
      "metadata": {
        "id": "yxHjm1OHjQXB",
        "outputId": "c6ff5e43-7b2d-4669-8454-03600bc9f2c4"
      },
      "source": [
        "data.<<??>>"
      ],
      "execution_count": null,
      "outputs": [
        {
          "data": {
            "text/plain": [
              "Index(['Id', 'gender', 'age', 'status', 'income', 'visitNo', 'method',\n",
              "       'timeSpend', 'location', 'membershipCard', 'itemPurchaseCoffee',\n",
              "       'itempurchaseCold', 'itemPurchasePastries', 'itemPurchaseJuices',\n",
              "       'itemPurchaseSandwiches', 'itemPurchaseOthers', 'spendPurchase',\n",
              "       'productRate', 'priceRate', 'promoRate', 'ambianceRate', 'wifiRate',\n",
              "       'serviceRate', 'chooseRate', 'promoMethodApp', 'promoMethodSoc',\n",
              "       'promoMethodEmail', 'promoMethodDeal', 'promoMethodFriend',\n",
              "       'promoMethodDisplay', 'promoMethodBillboard', 'promoMethodOthers',\n",
              "       'loyal'],\n",
              "      dtype='object')"
            ]
          },
          "execution_count": 4,
          "metadata": {},
          "output_type": "execute_result"
        }
      ]
    },
    {
      "cell_type": "code",
      "metadata": {
        "id": "P--r25R1jQXL",
        "outputId": "da6218c0-08dd-462b-e9aa-933e4721e169"
      },
      "source": [
        "### menampilkan nilai apa saja yang ada pada sebuah kolom\n",
        "data['gender'].unique()"
      ],
      "execution_count": null,
      "outputs": [
        {
          "data": {
            "text/plain": [
              "array([1, 0])"
            ]
          },
          "execution_count": 7,
          "metadata": {},
          "output_type": "execute_result"
        }
      ]
    },
    {
      "cell_type": "markdown",
      "metadata": {
        "id": "haTLM9p5jQXP"
      },
      "source": [
        "### Instruksi 4\n",
        "Tampilkan nilai berapa saja yang dimiliki oleh kolom dimiliki oleh timeSpend."
      ]
    },
    {
      "cell_type": "code",
      "metadata": {
        "id": "krvUmR4HjQXT"
      },
      "source": [
        "data['...'].<<??>>"
      ],
      "execution_count": null,
      "outputs": []
    },
    {
      "cell_type": "markdown",
      "metadata": {
        "_cell_guid": "829d5285-8fdb-437d-b5fd-26f2bc3f6e01",
        "_uuid": "86d0d9a841baf5733e6104cf0433cb3e148a354d",
        "id": "bfcSpXMzjQXX"
      },
      "source": [
        "<a id=\"1\"></a> <br>\n",
        "## Histogram\n",
        "\n",
        "* Menampilkan Berapa kali (frekuensi) setiap nilai muncul dalam kumpulan data. \n",
        "* Jenis deskripsi ini disebut distribusi variabel\n",
        "* Cara paling umum untuk merepresentasikan distribusi variabel adalah histogram yaitu grafik yang menunjukkan frekuensi dari setiap nilai.\n",
        "* Frequency = berapa kali setiap nilai muncul\n",
        "* Contoh: [1,1,1,1,2,2,2]. Frequency dari 1 adalah empat dan frequency dari 2 adalah tiga."
      ]
    },
    {
      "cell_type": "markdown",
      "metadata": {
        "id": "msStedw0jQXb"
      },
      "source": [
        "### Instruksi 5\n",
        "Tampilkan histogram dari kolom timeSpend"
      ]
    },
    {
      "cell_type": "code",
      "metadata": {
        "_cell_guid": "27b6f676-0a79-4728-889e-4839925ea067",
        "_uuid": "d85e97435435a4f9b0d5ac188c8ec21f565bc7d9",
        "id": "QBV0VoUJjQXe",
        "outputId": "6bef767c-a29a-4cee-bf8d-2f38edceb3c4"
      },
      "source": [
        "## Buatlah diagram histogram dari kolom Strength\n",
        "plt.figure(figsize=(20,10))\n",
        "plt.title('Histogram of timeSpend')\n",
        "sns.histplot(data,x='...', kde=True);"
      ],
      "execution_count": null,
      "outputs": [
        {
          "data": {
            "image/png": "[encoded data removed]",
            "text/plain": [
              "<Figure size 1440x720 with 1 Axes>"
            ]
          },
          "metadata": {},
          "output_type": "display_data"
        }
      ]
    },
    {
      "cell_type": "code",
      "metadata": {
        "id": "GMXtB_H8jQXn",
        "outputId": "5fc6d0f3-8cf7-4911-e7e6-dbba2d2d58fc"
      },
      "source": [
        "## ploting untuk data produk pastry \n",
        "m = plt.hist(data[data[\"gender\"] == 1].itemPurchasePastries,bins=30,fc = (1,0,0,0.5),label = \"Male\")\n",
        "## ploting untuk data tumor dengan label jinak\n",
        "f = plt.hist(data[data[\"gender\"] == 0].itemPurchasePastries,bins=30,fc = (0,1,0,0.5),label = \"Female\")\n",
        "plt.legend()\n",
        "plt.xlabel(\"Nilai itemPurchasePastries\")\n",
        "plt.ylabel(\"Frequency\")\n",
        "plt.title(\"Histogram Pembelian produk pastry bedasarkan demografi gender\")\n",
        "plt.show()"
      ],
      "execution_count": null,
      "outputs": [
        {
          "data": {
            "image/png": "[encoded data removed]",
            "text/plain": [
              "<Figure size 432x288 with 1 Axes>"
            ]
          },
          "metadata": {},
          "output_type": "display_data"
        }
      ]
    },
    {
      "cell_type": "markdown",
      "metadata": {
        "id": "5oO9QZyejQXr"
      },
      "source": [
        "### Instruksi 6\n",
        "Tampilkan histogram dari kolom timeSpend yang dikelompokkan berdasarkan gender"
      ]
    },
    {
      "cell_type": "code",
      "metadata": {
        "id": "B5d4vkJ_jQXu",
        "outputId": "c91f9680-36cc-4b04-c257-592c84a80293"
      },
      "source": [
        "## ploting untuk data produk pastry \n",
        "m = plt.hist(data[data[\"...\"] == 1].<<??>>,label = \"Male\")\n",
        "## ploting untuk data tumor dengan label jinak\n",
        "f = plt.hist(data[data[\"...\"] == 0].<<??>>,label = \"Female\")\n",
        "plt.legend()\n",
        "plt.xlabel(\"Nilai timeSpend\")\n",
        "plt.ylabel(\"Frequency\")\n",
        "plt.title(\"Histogram waktu yang dihabiskan di toko bedasarkan demografi gender\")\n",
        "plt.show()"
      ],
      "execution_count": null,
      "outputs": [
        {
          "data": {
            "image/png": "[encoded data removed]",
            "text/plain": [
              "<Figure size 432x288 with 1 Axes>"
            ]
          },
          "metadata": {},
          "output_type": "display_data"
        }
      ]
    },
    {
      "cell_type": "markdown",
      "metadata": {
        "id": "qOFw076vjQXv"
      },
      "source": [
        "### Instruksi 7\n",
        "Buatlah kesimpulan dari informasi yang Anda dapatkan di atas. "
      ]
    },
    {
      "cell_type": "markdown",
      "metadata": {
        "_cell_guid": "87e57445-3e95-42b8-8e39-f50d44d10fcd",
        "_uuid": "39dc3e3da7aa7c7d6e0f8401ced77452bc3e7342",
        "id": "4twYVADTjQXx"
      },
      "source": [
        "<a id=\"2\"></a> <br>\n",
        "## Outliers\n",
        "* Nilai outliers bisa diartikan sebagai kesalahan atau kejadian langka.\n",
        "* Menghitung outlier: \n",
        "    * pertama kita perlu menghitung kuartil pertama (Q1)(25%)\n",
        "    * kemudian temukan IQR(inter quartile range) = Q3-Q1\n",
        "    * terakhir menghitung Q1 - 1.5*IQR dan Q3 + 1.5*IQR\n",
        "    * Apa pun di luar kisaran ini adalah outlier\n",
        "    * mari kita tulis kode untuk distribusi tumor jinak untuk rata-rata fitur radius"
      ]
    },
    {
      "cell_type": "markdown",
      "metadata": {
        "id": "kYyWVPdsjQXy"
      },
      "source": [
        "### Instruksi 8\n",
        "Buatlah kesimpulan dari informasi yang Anda dapatkan dari perhitungan nilai outliers dari variabel timeSpend pada data customer dengan gender laki-laki"
      ]
    },
    {
      "cell_type": "code",
      "metadata": {
        "_cell_guid": "08e126eb-3104-4661-85a6-bd0c577bc23f",
        "_uuid": "040eb24a134cb58f36ec73001ea4c4b1ba7df12f",
        "id": "cSe-GGmEjQX1",
        "outputId": "c135afb0-506e-4717-c706-62a6751cbc8b"
      },
      "source": [
        "## Menghitung nilai outliers dari variabel timeSpend pada data customer dengan gender laki-laki\n",
        "male = data[data[\"gender\"] == 1]\n",
        "female = data[data[\"gender\"] == 0]\n",
        "desc = male.timeSpend.describe()\n",
        "Q1 = desc[4]\n",
        "Q3 = desc[6]\n",
        "IQR = Q3-Q1\n",
        "lower_bound = Q1 - 1.5*IQR\n",
        "upper_bound = Q3 + 1.5*IQR\n",
        "print(\"Apa pun di luar kisaran ini adalah outlier timeSpend: (\", lower_bound ,\",\", upper_bound,\")\")\n",
        "male[male.timeSpend < lower_bound].timeSpend\n",
        "print(\"Outliers: \",male[(male.timeSpend < lower_bound) | (male.timeSpend > upper_bound)].timeSpend.values)"
      ],
      "execution_count": null,
      "outputs": [
        {
          "name": "stdout",
          "output_type": "stream",
          "text": [
            "Apa pun di luar kisaran ini adalah outlier: ( -1.5 , 2.5 )\n",
            "Outliers:  [4]\n"
          ]
        }
      ]
    },
    {
      "cell_type": "markdown",
      "metadata": {
        "id": "PwTaN6IljQX5"
      },
      "source": [
        "### Instruksi 9\n",
        "Hitungnilai outliers dari variabel timeSpend pada data customer dengan gender laki-laki"
      ]
    },
    {
      "cell_type": "code",
      "metadata": {
        "_cell_guid": "08e126eb-3104-4661-85a6-bd0c577bc23f",
        "_uuid": "040eb24a134cb58f36ec73001ea4c4b1ba7df12f",
        "id": "qVdavhoyjQX7"
      },
      "source": [
        "## Menghitung nilai outliers dari variabel visitNo (jumlah kedatangan) pada data customer dengan gender perempuan\n",
        "male = data[data[\"gender\"] == 1]\n",
        "female = data[data[\"gender\"] == 0]\n",
        "desc = data.<<??>>.describe()\n",
        "Q1 = desc[4]\n",
        "Q3 = desc[6]\n",
        "IQR = Q3-Q1\n",
        "lower_bound = Q1 - 1.5*IQR\n",
        "upper_bound = Q3 + 1.5*IQR\n",
        "print(\"Apa pun di luar kisaran ini adalah outlier visitNo: (\", lower_bound ,\",\", upper_bound,\")\")\n",
        "<<??>>[<<??>>.<??>> < lower_bound].<<??>>\n",
        "print(\"Outliers: \",<<??>>[(<<??>>.<<??>> < lower_bound) | (<<??>>.<<??>> > upper_bound)].<??>>.values)"
      ],
      "execution_count": null,
      "outputs": []
    },
    {
      "cell_type": "markdown",
      "metadata": {
        "_cell_guid": "1f3dbf13-eff8-4ec8-b2af-0685be3bc21f",
        "_uuid": "1d9aa65d902b558f1b8edc93a368ba49bfc776f2",
        "id": "z21Y-eUIjQX8"
      },
      "source": [
        "<a id=\"4\"></a> <br>\n",
        "## Summary Statistics\n",
        "* Mean/rata-rata\n",
        "* Variance: penyebaran distribusi\n",
        "* Standart deviation square root dari variance\n",
        "* Mari kita lihat ringkasan statistik rata-rata pancaran tumor jinak:"
      ]
    },
    {
      "cell_type": "markdown",
      "metadata": {
        "id": "PCtDn02YjQX-"
      },
      "source": [
        "### Instruksi 11\n",
        "Hitung nilai karakteristik statistik untuk variabel visitNo untuk gender laki-laki"
      ]
    },
    {
      "cell_type": "code",
      "metadata": {
        "_cell_guid": "5d753b0e-eb9b-47a2-99b7-c1d949dac739",
        "_uuid": "ceaf1cc0795f0612bcd30d8dd3c2566f96dbb198",
        "id": "bxpdBVbHjQX_",
        "outputId": "a4cbd0c1-21b5-4db9-ea91-4c1bedafaeab"
      },
      "source": [
        "## variabel male menyimpan data yang ada pada seluruh kolom dengan nilai gender = 1\n",
        "male = data[data[\"gender\"] == 1]\n",
        "## variabel female menyimpan data yang ada pada seluruh kolom dengan nilai gender = 0\n",
        "female = data[data[\"gender\"] == 0]\n",
        "print(\"mean: \",<<??>>.<<??>>.mean())\n",
        "print(\"variance: \",<<??>>.<<??>>.var())\n",
        "print(\"standart deviation (std): \",<<??>>.<<??>>.std())\n",
        "print(\"describe method: \",<<??>>.<<??>>.describe())"
      ],
      "execution_count": null,
      "outputs": [
        {
          "name": "stdout",
          "output_type": "stream",
          "text": [
            "mean:  2.4074074074074074\n",
            "variance:  0.6610761705101328\n",
            "standart deviation (std):  0.8130659078513456\n",
            "describe method:  count    54.000000\n",
            "mean      2.407407\n",
            "std       0.813066\n",
            "min       0.000000\n",
            "25%       2.000000\n",
            "50%       3.000000\n",
            "75%       3.000000\n",
            "max       3.000000\n",
            "Name: visitNo, dtype: float64\n"
          ]
        }
      ]
    },
    {
      "cell_type": "markdown",
      "metadata": {
        "_cell_guid": "5693f3d8-6a63-49ff-8780-00e686cfa951",
        "_uuid": "d91688a04c9bb1549a59a246537b8e976ebe2fce",
        "id": "PIl04GCRjQYA"
      },
      "source": [
        "<a id=\"6\"></a> <br>\n",
        "## Effect size\n",
        "* Salah satu ringkasan statistik.\n",
        "* Ini menggambarkan ukuran efek/effect size. Ini adalah cara sederhana untuk mengukur perbedaan antara dua kelompok.\n",
        "* Dengan kata lain, ukuran efek menekankan ukuran perbedaan\n",
        "* Gunakan ukuran efek kohen/cohen\n",
        "* Cohen menyarankan bahwa jika d(ukuran efek)= 0,2, itu adalah ukuran efek kecil, d = 0,5 ukuran efek sedang, d = 0,8 ukuran efek besar.\n",
        "* mari kita bandingkan ukuran efek antara mean radius jinak dan mean radius ganas\n",
        "* Ukuran efek adalah 2.2 dan itu terlalu besar dan dikatakan bahwa dua kelompok itu berbeda satu sama lain seperti yang kita harapkan. Karena kelompok kita adalah mean radius jinak dan mean radius ganas yang berbeda satu sama lain"
      ]
    },
    {
      "cell_type": "markdown",
      "metadata": {
        "id": "h363x9wgjQYC"
      },
      "source": [
        "### Instruksi 10\n",
        "Jalankan perhitungan dibawah ini. Buatlah kesimpulan dari informasi yang Anda dapatkan dari perhitungan nilai effect size dari variabel visitNo pada data customer dengan gender laki-laki. Apa terdapat perbedaan antara jumlah kedatangan dari pelanggan wanita dan pria?"
      ]
    },
    {
      "cell_type": "code",
      "metadata": {
        "_cell_guid": "6b4596a9-f913-4ea2-a182-eb1b35f659fa",
        "_uuid": "5bafe90f6212eeb920fc8ed80ca72bb87ea9abe6",
        "id": "X4ahvLLYjQYE",
        "outputId": "f9064812-2218-4d51-e21f-3b18c1e0a1d8"
      },
      "source": [
        "mean_diff = male.visitNo.mean() - female.visitNo.mean()\n",
        "var_male = male.visitNo.var()\n",
        "var_female = female.visitNo.var()\n",
        "var_pooled = (len(male)*var_male +len(female)*var_female ) / float(len(male)+ len(female))\n",
        "effect_size = mean_diff/np.sqrt(var_pooled)\n",
        "print(\"Effect size: \",effect_size)"
      ],
      "execution_count": null,
      "outputs": [
        {
          "name": "stdout",
          "output_type": "stream",
          "text": [
            "Effect size:  0.40638112114512315\n"
          ]
        }
      ]
    },
    {
      "cell_type": "markdown",
      "metadata": {
        "_cell_guid": "a0b7aa9c-8f1c-4f7e-a244-0401ae3f5815",
        "_uuid": "ee5ab99fe36c7ce986374530f121381e4a01e5ea",
        "id": "1ipCDHQZjQYG"
      },
      "source": [
        "<a id=\"7\"></a> <br>\n",
        "## Relationship Between Variables - Korelasi\n",
        "* Kita dapat mengatakan bahwa dua variabel terkait satu sama lain, jika salah satunya memberikan informasi tentang yang lain\n",
        "* Misalnya, harga dan jarak. Jika Anda pergi jarak jauh dengan taksi Anda akan membayar lebih. Oleh karena itu kita dapat mengatakan bahwa harga dan jarak berhubungan positif satu sama lain.\n",
        "* Scatter Plot, Cara termudah untuk memeriksa hubungan antara dua variabel\n",
        "* Matriks korelasi besar yang mencakup banyak angka\n",
        "* Kisaran angka ini adalah -1 hingga 1. \n",
        "* Arti dari 1 adalah dua variabel yang saling berkorelasi positif seperti mean radius dan mean area\n",
        "* Arti dari nol adalah tidak ada korelasi antara variabel seperti productRate dengan income\n",
        "* Arti dari -1 adalah dua variabel berkorelasi negatif satu sama lain seperti income dan membershipCard. Sebenarnya korelasi antara keduanya bukan -1, melainkan -0,3 tetapi idenya adalah jika tanda korelasi negatif berarti ada adalah korelasi negatif."
      ]
    },
    {
      "cell_type": "markdown",
      "metadata": {
        "id": "nOoRq7xBjQYI"
      },
      "source": [
        "### Instruksi 11\n",
        "Tuliskan kesimpulan dari hasil diagram heatmap korelasi yang ada. Variabel mana saja yang saling berkorelasi? Jelaskan pendapat Anda."
      ]
    },
    {
      "cell_type": "code",
      "metadata": {
        "_cell_guid": "434cca92-696b-4444-8f56-1644cc804a18",
        "_uuid": "fb58562e31b2f4ee55cb9021aac1de86c714da50",
        "id": "n73cd8RljQYP",
        "outputId": "e816fd20-d71a-427c-d328-0a3a5cbb5779"
      },
      "source": [
        "f,ax=plt.subplots(figsize = (11, 9))\n",
        "dfs = data.loc[:,['productRate','priceRate','serviceRate','visitNo','timeSpend','wifiRate','income','promoRate','membershipCard']]\n",
        "sns.heatmap(dfs.corr(),annot= True,linewidths=0.5,fmt = \".1f\",ax=ax)\n",
        "bottom, top = ax.get_ylim()\n",
        "ax.set_ylim(bottom + 0.5, top - 0.5)\n",
        "plt.xticks(rotation=90)\n",
        "plt.yticks(rotation=0)\n",
        "plt.title('Correlation Map')\n",
        "plt.savefig('graph.png')\n",
        "plt.show()"
      ],
      "execution_count": null,
      "outputs": [
        {
          "data": {
            "image/png": "[encoded data removed]",
            "text/plain": [
              "<Figure size 792x648 with 2 Axes>"
            ]
          },
          "metadata": {},
          "output_type": "display_data"
        }
      ]
    },
    {
      "cell_type": "markdown",
      "metadata": {
        "_cell_guid": "decf0e59-ba06-4f70-a409-b9c36f31a2d2",
        "_uuid": "7a0e213abd8c7d9393aa3f3aa891cba5bab7ad2f",
        "id": "KmSh37RXjQYU"
      },
      "source": [
        "<a id=\"9\"></a> <br>\n",
        "## Covariance\n",
        "* Covariance adalah ukuran kecenderungan dua variabel untuk bervariasi bersama-sama\n",
        "* Jadi covarians dimaksimalkan jika dua vektor identik\n",
        "* Covarians adalah nol jika mereka ortogonal.\n",
        "* Covariance negatif jika mereka menunjuk ke arah yang berlawanan\n",
        "* Mari kita lihat kovarians antara mean radius dan mean area. Kemudian lihat radius mean dan fractal dimension se\n"
      ]
    },
    {
      "cell_type": "markdown",
      "metadata": {
        "id": "3_plG5KMjQYV"
      },
      "source": [
        "### Instruksi 11\n",
        "Hitung nilai covariance antara variabel timeSpend dengan income dan timeSpend dengan visitNo"
      ]
    },
    {
      "cell_type": "code",
      "metadata": {
        "_cell_guid": "70a5a86e-e4c4-48a6-9b26-da7acd0aa582",
        "_uuid": "278fab1f7f573e39871179b3797acc3868d8292d",
        "id": "0VCfi01zjQYV",
        "outputId": "09c595d4-7669-410d-a874-6b7c0d965152"
      },
      "source": [
        "print(\"Covariance diantara timeSpend dan income: \",data.timeSpend.cov(data.<<??>>))\n",
        "print(\"Covariance diantara timeSpend dan visitNo: \",data.timeSpend.cov(data.<<??>>))"
      ],
      "execution_count": null,
      "outputs": [
        {
          "name": "stdout",
          "output_type": "stream",
          "text": [
            "Covariance diantara timeSpend dan income:  0.20077433628318603\n",
            "Covariance diantara timeSpend dan fractal dimension se:  -0.09347345132743368\n"
          ]
        }
      ]
    },
    {
      "cell_type": "markdown",
      "metadata": {
        "_cell_guid": "2ed58704-19c9-4cfc-8439-285d34dad3c3",
        "_uuid": "9df1c74618ff36af2225292b44aa4f2fb00719d9",
        "id": "8z0k1j8ojQYX"
      },
      "source": [
        "<a id=\"10\"></a> <br>\n",
        "## Pearson Correlation\n",
        "* Pembagian covarians dengan standar deviasi variabel\n",
        "* Mari kita lihat korelasi pearson antara mean/rata-rata radius dan mean/rata-rata area\n",
        "* Pertama mari kita gunakan metode .corr() yang sebenarnya kita gunakan pada bagian korelasi. Di bagian korelasi kami sebenarnya menggunakan korelasi pearson :)\n",
        "* p1 dan p2 adalah sama. Di p1 kita menggunakan metode corr(), di p2 kita menerapkan definisi korelasi pearson (cov(A,B)/(std(A)*std(B)))\n",
        "* Seperti yang kita harapkan korelasi pearson antara area_mean dan area_mean adalah 1 yang berarti bahwa mereka adalah distribusi yang sama\n",
        "* Untuk lebih jelas apa yang kami lakukan di bagian korelasi dan bagian korelasi pearson adalah sama.\n"
      ]
    },
    {
      "cell_type": "markdown",
      "metadata": {
        "id": "GF3cQn3jjQYY"
      },
      "source": [
        "### Instruksi 12\n",
        "Pada contoh dibawah ini kita melakukan perhitungan pearson correlation pada variabel timeSpend dan serviceRate\n",
        "\n",
        "1. Sesuaikan perintah untuk melakukan perhitungan  pearson correlation pada variabel wifiRate dan serviceRate.\n",
        "2. Kesimpulan apa yang dapat Anda tarik dari dua percobaan diatas. "
      ]
    },
    {
      "cell_type": "code",
      "metadata": {
        "_cell_guid": "5f951685-4070-4785-ba88-9bfaf9b80d79",
        "_uuid": "d40a315700b4a628ef6fd75701d68c4adffb3d70",
        "id": "2TZVjxu2jQYa",
        "outputId": "9f26c79b-fef9-4329-a4d8-3a9aa1f506c0"
      },
      "source": [
        "p1 = data.loc[:,[\"gender\",\"serviceRate\"]].corr(method= \"pearson\")\n",
        "p2 = data.serviceRate.cov(data.timeSpend)/(data.serviceRate.std()*data.timeSpend.std())\n",
        "print('Pearson correlation: ')\n",
        "print(p1)\n",
        "print('Pearson correlation: ',p2)"
      ],
      "execution_count": null,
      "outputs": [
        {
          "name": "stdout",
          "output_type": "stream",
          "text": [
            "Pearson correlation: \n",
            "               gender  serviceRate\n",
            "gender       1.000000     0.133221\n",
            "serviceRate  0.133221     1.000000\n",
            "Pearson correlation:  -0.08146366260564272\n"
          ]
        }
      ]
    },
    {
      "cell_type": "markdown",
      "metadata": {
        "_cell_guid": "b12190ed-205b-4b60-847d-a393de0ebfdf",
        "_uuid": "8e1e0dedd2dc999ca0727ff98b0db1e2c4a78cf8",
        "id": "llExN8OQjQYb"
      },
      "source": [
        "<a id=\"11\"></a> <br>\n",
        "## Spearman's Rank Correlation\n",
        "* Pearson correlation bekerja dengan baik jika hubungan antara variabel linier dan variabel kira-kira normal. Tapi itu tidak kuat, jika ada outlier\n",
        "* Untuk menghitung korelasi spearman, kita perlu menghitung peringkat dari setiap nilai\n"
      ]
    },
    {
      "cell_type": "markdown",
      "metadata": {
        "id": "2y9EAhApjQYd"
      },
      "source": [
        "### Instruksi 13\n",
        "Pada contoh dibawah ini kita melakukan perhitungan spearman correlation pada variabel timeSpend dan serviceRate\n",
        "\n",
        "1. Sesuaikan perintah untuk melakukan perhitungan  pearson correlation pada variabel priceRate dan productRate.\n",
        "2. Kesimpulan apa yang dapat Anda tarik dari dua percobaan diatas. "
      ]
    },
    {
      "cell_type": "code",
      "metadata": {
        "_cell_guid": "1bfe46f8-3905-4f50-850d-50c76f49e922",
        "_uuid": "4a82b960ed64998d4bd111b23569fb9619bcae03",
        "id": "3VHV7tEOjQYd",
        "outputId": "e3b5a631-21d3-4f53-f892-eda8a00f7a22"
      },
      "source": [
        "ranked_data = data.rank()\n",
        "spearman_corr = ranked_data.loc[:,[\"timeSpend\",\"serviceRate\"]].corr(method= \"pearson\")\n",
        "print(\"Spearman's correlation: \")\n",
        "print(spearman_corr)"
      ],
      "execution_count": null,
      "outputs": [
        {
          "name": "stdout",
          "output_type": "stream",
          "text": [
            "Spearman's correlation: \n",
            "              gender  productRate\n",
            "gender       1.00000     -0.03023\n",
            "productRate -0.03023      1.00000\n"
          ]
        }
      ]
    },
    {
      "cell_type": "markdown",
      "metadata": {
        "_cell_guid": "aecd895c-4d41-4615-b360-f752eff0eddd",
        "_uuid": "45d7a09457f8c71e87251fa765f99f39c349fe3d",
        "id": "PHFzFEaljQYf"
      },
      "source": [
        "* Korelasi Spearman sedikit lebih tinggi dari korelasi pearson\n",
        "    * Jika hubungan antar distribusi tidak linier, korelasi spearman cenderung lebih baik dalam memperkirakan kekuatan hubungan\n",
        "    * Korelasi Pearson dapat dipengaruhi oleh outlier. Sehingga Korelasi Spearman lebih kuat."
      ]
    },
    {
      "cell_type": "markdown",
      "metadata": {
        "_cell_guid": "1cd563bd-d525-479a-8d9c-9530280dfdc0",
        "_uuid": "49e6272bd3e392d289514d1a2d19bb0fc65b34f3",
        "id": "RgyB4t33jQYf"
      },
      "source": [
        "<a id=\"13\"></a> <br>\n",
        "## Hypothesis Testing\n",
        "* Classical Hypothesis Testing / Pengujian Hipotesis Klasik\n",
        "* Apa yang Anda perlu lakukan untuk menjawab pertanyaan berikut : \"diberikan sampel dan efek nyata, berapa peluang melihat efek seperti itu secara kebetulan\"\n",
        "* Langkah pertama adalah mengukur ukuran efek nyata dengan memilih statistik uji. Pilihan alami untuk statistik uji adalah perbedaan mean/rata-rata antara dua kelompok.\n",
        "* Langkah kedua adalah mendefinisikan hipotesis nol yaitu model sistem berdasarkan asumsi bahwa efek yang tampak tidak nyata. Hipotesis nol adalah jenis hipotesis yang digunakan dalam statistik yang menyatakan bahwa tidak ada signifikansi statistik dalam serangkaian pengamatan yang diberikan. Hipotesis nol adalah hipotesis yang orang mencoba untuk menyangkalnya. Hipotesis alternatif adalah hipotesis yang orang ingin mencoba untuk membuktikannya. \n",
        "* Langkah ketiga adalah menghitung p-value yaitu probabilitas melihat efek nyata jika hipotesis nol benar. Misalkan kita memiliki uji hipotesis nol. Kemudian kita hitung nilai p. Jika nilai p kurang dari atau sama dengan ambang batas, kami menolak hipotesis nol.\n",
        "* Jika p-value rendah, pengaruh tersebut dikatakan signifikan secara statistik artinya tidak mungkin terjadi secara kebetulan. Oleh karena itu kita dapat mengatakan bahwa efeknya lebih mungkin muncul pada populasi yang lebih besar.\n",
        "* Mari kita coba contohkan. Hipotesis nol: dunia rata. Hipotesis alternatif: dunia itu bulat. Beberapa ilmuwan mulai menyangkal hipotesis nol. Ini akhirnya mengarah pada refleksi hipotesis nol dan penerimaan hipotesis alternatif.\n",
        "* Contoh lainnya. \"efek ini nyata\" ini adalah hipotesis nol. Berdasarkan asumsi itu kami menghitung probabilitas efek yang tampak. Itu adalah nilai-p. Jika nilai p rendah, kami menyimpulkan bahwa hipotesis nol tidak mungkin benar.\n",
        "* Sekarang mari kita buat contoh kita:\n",
        "    * Saya ingin mengetahui apakah rata-rata radius dan rata-rata area terkait satu sama lain? Hipotesis nol saya adalah bahwa \"hubungan antara rata-rata radius dan rata-rata area adalah nol pada populasi tumor'.\n",
        "    * Sekarang kita perlu menyangkal hipotesis nol ini untuk menunjukkan bahwa mean/rata-rata radius dan mean/rata-rata area berhubungan. (walaupun sebenarnya kita telah mengetahui hasilnya berdasarkan analisa korelasi yang telah dilakukan sebelumnya)\n",
        "    * mari kita cari nilai p (nilai probabilitas)"
      ]
    },
    {
      "cell_type": "markdown",
      "metadata": {
        "id": "uDgoL3rAjQYg"
      },
      "source": [
        "### Instruksi 14\n",
        "Pada contoh dibawah ini kita melakukan pengujian hipotesis keterhubungan variabel timeSpend dan serviceRate.\n",
        "\n",
        "1. Sesuaikan perintah untuk melakukan perhitungan  pengujian hipotesis pada variabel gender dan productRate.\n",
        "2. Kesimpulan apa yang dapat Anda tarik dari dua percobaan diatas. "
      ]
    },
    {
      "cell_type": "code",
      "metadata": {
        "_cell_guid": "a7f73cf7-535c-4ee3-ad09-bc5530f4a5aa",
        "_uuid": "fa778e19b79454fbfa63846607f272d9afd7bb3c",
        "id": "RKH370fKjQYi"
      },
      "source": [
        "statistic, p_value = stats.ttest_rel(data.gender,data.productRate)\n",
        "print('p-value adalah: ',p_value)"
      ],
      "execution_count": null,
      "outputs": []
    }
  ]
}